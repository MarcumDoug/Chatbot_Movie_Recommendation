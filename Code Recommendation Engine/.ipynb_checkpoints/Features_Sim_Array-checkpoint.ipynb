{
 "cells": [
  {
   "cell_type": "code",
   "execution_count": 1,
   "metadata": {},
   "outputs": [],
   "source": [
    "import pandas as pd\n",
    "import numpy as np\n",
    "import matplotlib.pyplot as plt"
   ]
  },
  {
   "cell_type": "code",
   "execution_count": 2,
   "metadata": {},
   "outputs": [],
   "source": [
    "# load data\n",
    "rated_movies = pd.read_csv('../Data/rated_movies.csv.gz', low_memory = False)"
   ]
  },
  {
   "cell_type": "code",
   "execution_count": 3,
   "metadata": {},
   "outputs": [
    {
     "data": {
      "text/plain": [
       "(38251, 111203)"
      ]
     },
     "execution_count": 3,
     "metadata": {},
     "output_type": "execute_result"
    }
   ],
   "source": [
    "# import TfIdfVectorizer\n",
    "from sklearn.feature_extraction.text import TfidfVectorizer\n",
    "\n",
    "# remove all english stop words such as 'the', 'a'\n",
    "tfidf = TfidfVectorizer(stop_words = 'english', min_df = 1)\n",
    "\n",
    "# fit and transform the data\n",
    "tfidf_matrix_features = tfidf.fit_transform(rated_movies.words_features)\n",
    "\n",
    "# display shape\n",
    "tfidf_matrix_features.shape"
   ]
  },
  {
   "cell_type": "code",
   "execution_count": 4,
   "metadata": {},
   "outputs": [
    {
     "data": {
      "text/plain": [
       "(38251, 38251)"
      ]
     },
     "execution_count": 4,
     "metadata": {},
     "output_type": "execute_result"
    }
   ],
   "source": [
    "# create the Cosine Similarity matrix based on the tfidf_matrix_features\n",
    "from sklearn.metrics.pairwise import cosine_similarity\n",
    "\n",
    "cosine_sim_features = cosine_similarity(tfidf_matrix_features, tfidf_matrix_features)\n",
    "\n",
    "# convert to float16 to save some space\n",
    "cosine_sim_features = np.float16(cosine_sim_features)\n",
    "\n",
    "# display shape\n",
    "cosine_sim_features.shape"
   ]
  },
  {
   "cell_type": "code",
   "execution_count": 5,
   "metadata": {},
   "outputs": [
    {
     "name": "stdout",
     "output_type": "stream",
     "text": [
      "The array for cosine_sim_features has been saved\n"
     ]
    }
   ],
   "source": [
    "# array is saved in the file cosine_sim_features.npy\n",
    "np.save('..//Data//cosine_sim_features', cosine_sim_features)\n",
    "\n",
    "print(\"The array for cosine_sim_features has been saved\")"
   ]
  }
 ],
 "metadata": {
  "kernelspec": {
   "display_name": "Python 3",
   "language": "python",
   "name": "python3"
  },
  "language_info": {
   "codemirror_mode": {
    "name": "ipython",
    "version": 3
   },
   "file_extension": ".py",
   "mimetype": "text/x-python",
   "name": "python",
   "nbconvert_exporter": "python",
   "pygments_lexer": "ipython3",
   "version": "3.8.5"
  }
 },
 "nbformat": 4,
 "nbformat_minor": 4
}
